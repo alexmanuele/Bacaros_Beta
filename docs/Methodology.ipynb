{
 "cells": [
  {
   "cell_type": "markdown",
   "metadata": {},
   "source": [
    "*Note: We have used a Jupyter Notebook to allow for LaTeX rendering in GitHub*\n",
    "\n",
    "### Approach overview\n",
    "- Construct a pairwise score between samples\n",
    "- Calculate the Beta Diversity using the pairwise score.\n",
    "\n",
    "#### Pairwise score\n",
    "First, a means to calculate taxonomic distance between two organisms. <br>\n",
    "As per Bacaro et al (2007), we will use \"as the\n",
    "number of higher-level taxa in the Linnaean taxonomy\n",
    "between the species and the taxonomic level where a\n",
    "common ancestor exists. More speciﬁcally, if the spe-\n",
    "cies are classiﬁed into genera, families, orders, etc., the\n",
    "taxonomic distance is 0 for two individuals of the same\n",
    "species, 1 for two individuals of different species but\n",
    "same genus, 2 for two individuals of different genus but\n",
    "same family, etc.\" Let's call this *w*.\n",
    "\n",
    "For species with unassigned taxonomic ranks, we will assume no match.\n",
    "\n",
    "Given two samples:\n",
    "- For each species in sample A:\n",
    "    - calculate *w* between species *i* and all species in sample B\n",
    "    - record the minimum *w* for species *i*\n",
    "- Compute the sum of minima\n",
    "- Repeat for sample B\n",
    "- Add the sums\n",
    "- divide by the total number of species in both samples\n",
    "\n",
    "We will call the resultant value *TD*. As described above, we calculate $TD$ as:\n",
    "\n",
    "$$ TD = \\frac{\\sum_{i}w_{iB} + \\sum_{j}w_{jA}}{n_{A} +n_{B}} $$.\n",
    "\n",
    "In our code, `beta.py`, we calculate $w_{ij}$ with the method `compare_taxa_lists`. We calculate $TD$ using `compare_plots`.\n",
    "\n",
    "Next, we calculate $\\Delta_{s}$ as:\n",
    "$$ \\Delta_{s} = 1 - \\frac{TD}{L - 1} $$\n",
    "Where $L$ is the number of taxonomic levels used in the calculation.\n",
    "\n",
    "In our code, `beta.py`, we calculate $\\Delta_{s}$ within the `compare_plots` method.\n",
    "\n",
    "#### Matrix calculation\n",
    "The Bacaro beta diversity metric is simply an average of the pairwise dissimilarities: \n",
    "$$ \\beta = \\frac{1}{N}  \\sum_1^N d_{iN}  $$\n",
    "\n",
    "where $N$ is the number of pairs and $d$ is the dissimilarity co-efficient.\n"
   ]
  }
 ],
 "metadata": {
  "kernelspec": {
   "display_name": "Python 3",
   "language": "python",
   "name": "python3"
  },
  "language_info": {
   "codemirror_mode": {
    "name": "ipython",
    "version": 3
   },
   "file_extension": ".py",
   "mimetype": "text/x-python",
   "name": "python",
   "nbconvert_exporter": "python",
   "pygments_lexer": "ipython3",
   "version": "3.8.5"
  }
 },
 "nbformat": 4,
 "nbformat_minor": 4
}
